{
  "nbformat": 4,
  "nbformat_minor": 0,
  "metadata": {
    "colab": {
      "name": "정보3-7.ipynb",
      "provenance": []
    },
    "kernelspec": {
      "name": "python3",
      "display_name": "Python 3"
    },
    "language_info": {
      "name": "python"
    }
  },
  "cells": [
    {
      "cell_type": "markdown",
      "source": [
        "# 고등학교 정보 3. 프로그래밍 (python) 3-7 함수의 활용\n",
        "<img src='https://github.com/KimJEssam/firstTest/blob/main/00.PNG?raw=true' width=180>\n"
      ],
      "metadata": {
        "id": "gl9dDpscF4Kx"
      }
    },
    {
      "cell_type": "markdown",
      "source": [
        "과연 문제는 무엇인가?\n",
        "\n",
        "<img src=\"https://github.com/KimJEssam/firstTest/blob/main/158_1.PNG?raw=true\" width=300>\n",
        "<img src=\"https://github.com/KimJEssam/firstTest/blob/main/158_2.PNG?raw=true\" width=350> >>>\n",
        "<img src=\"https://github.com/KimJEssam/firstTest/blob/main/158_3.PNG?raw=true\" width=300>"
      ],
      "metadata": {
        "id": "gsjFX1EsHVNp"
      }
    },
    {
      "cell_type": "markdown",
      "source": [
        "#1. 함수\n",
        "**프로그래밍 언어의 함수**\n",
        "\n",
        "><img src=\"https://github.com/KimJEssam/firstTest/blob/main/159_1.PNG?raw=true\" width=500>\n",
        "\n",
        "**함수 사용 방법**\n",
        "><img src=\"https://github.com/KimJEssam/firstTest/blob/main/159_2.PNG?raw=true\" width=550><img src=\"https://github.com/KimJEssam/firstTest/blob/main/159_3.PNG?raw=true\" width=200>\n",
        "\n",
        "**함수를 사용한 프로그램**\n",
        "\n",
        "><img src=\"https://github.com/KimJEssam/firstTest/blob/main/159_4.PNG?raw=true\" width=650>\n"
      ],
      "metadata": {
        "id": "5hQ6pGBUPQ4x"
      }
    },
    {
      "cell_type": "code",
      "source": [
        ""
      ],
      "metadata": {
        "id": "Ji_a95S7Q83s"
      },
      "execution_count": null,
      "outputs": []
    },
    {
      "cell_type": "code",
      "source": [
        ""
      ],
      "metadata": {
        "id": "kTK78EbpQ8kb"
      },
      "execution_count": null,
      "outputs": []
    },
    {
      "cell_type": "markdown",
      "source": [
        "**[스스로 해결하기 1]** 여러 개의 매개 변수로 전달받아 그 중에서 최대값을 구하는 기능을  수행하는 함수 greatest를 정의하고, 호출하는 프로그램을 작성해 보자.\n",
        "\n",
        "<img src=\"https://github.com/KimJEssam/firstTest/blob/main/160_1.PNG?raw=true\" width=650>\n",
        "\n",
        "<img src=\"\" width=500>\n",
        "\n",
        "<img src=\"\" width=500>"
      ],
      "metadata": {
        "id": "rgVSIxXnPk2c"
      }
    },
    {
      "cell_type": "code",
      "source": [
        ""
      ],
      "metadata": {
        "id": "mw1MFvdwR92I"
      },
      "execution_count": null,
      "outputs": []
    },
    {
      "cell_type": "markdown",
      "source": [
        "**[응용하기]** 실행결과와 같은 꽃 모양을 그리는 프로그램을 보고, 함수를 정의하고 호출하는 프로그램을 작성해 보자.\n",
        "\n",
        "<img src=\"https://github.com/KimJEssam/firstTest/blob/main/160_3.PNG?raw=true\" width=170><img src=\"https://github.com/KimJEssam/firstTest/blob/main/160_4.PNG?raw=true\" width=200>\n",
        "\n",
        "<img src=\"https://github.com/KimJEssam/firstTest/blob/main/160_2.PNG?raw=true\" width=650>\n"
      ],
      "metadata": {
        "id": "ef2dCFXzR_Kk"
      }
    },
    {
      "cell_type": "code",
      "source": [
        ""
      ],
      "metadata": {
        "id": "XfgOpkhlS8m0"
      },
      "execution_count": null,
      "outputs": []
    },
    {
      "cell_type": "markdown",
      "source": [
        "#2. 지역변수와 전역변수\n",
        "변수의 사용 범위는 어떻게 될까?\n",
        "\n",
        "<img src=\"https://github.com/KimJEssam/firstTest/blob/main/161_1.PNG?raw=true\" width=500>"
      ],
      "metadata": {
        "id": "YCfCJNwPTEn_"
      }
    },
    {
      "cell_type": "code",
      "source": [
        ""
      ],
      "metadata": {
        "id": "zuFf5qQ3TWQW"
      },
      "execution_count": null,
      "outputs": []
    },
    {
      "cell_type": "markdown",
      "source": [
        "><img src=\"https://github.com/KimJEssam/firstTest/blob/main/161_2.PNG?raw=true\" width=200>"
      ],
      "metadata": {
        "id": "eCtyrgToUOVT"
      }
    },
    {
      "cell_type": "markdown",
      "source": [
        ">답:"
      ],
      "metadata": {
        "id": "6I1H34GVVjq1"
      }
    },
    {
      "cell_type": "markdown",
      "source": [
        "**[스스로 해결하기 2]** 매개 변수 n을 사용하여 n!(팩토리얼)을 계산하는 함수인 fact()를 정의하고 전역 변수와 지역 변수를 사용하여 1!+2!+...+5!계산하는 프로그램을 작성해 보자.\n",
        "><img src=\"https://github.com/KimJEssam/firstTest/blob/main/161_3.PNG?raw=true\" width=300>"
      ],
      "metadata": {
        "id": "LaKTJWC3TZde"
      }
    },
    {
      "cell_type": "code",
      "source": [
        ""
      ],
      "metadata": {
        "id": "cwqenrpTT7D1"
      },
      "execution_count": null,
      "outputs": []
    },
    {
      "cell_type": "markdown",
      "source": [
        "#3. 파이썬 표준 라이브러리\n",
        "프로그램을 좀 더 쉽고 간편하게 작성할 수 있을까?\n",
        "\n",
        "1. 내장함수\n",
        "\n",
        "<img src=\"https://github.com/KimJEssam/firstTest/blob/main/162_1.PNG?raw=true\" width=550>\n"
      ],
      "metadata": {
        "id": "o4Q6RkrgV7U1"
      }
    },
    {
      "cell_type": "markdown",
      "source": [
        "><img src=\"https://github.com/KimJEssam/firstTest/blob/main/162_2.PNG?raw=true\" width=650>"
      ],
      "metadata": {
        "id": "Sacaydo8Za0e"
      }
    },
    {
      "cell_type": "code",
      "source": [
        ""
      ],
      "metadata": {
        "id": "L-O20B7wZoc7"
      },
      "execution_count": null,
      "outputs": []
    },
    {
      "cell_type": "markdown",
      "source": [
        "**[스스로 해결하기 3]**콘솔로부터 여러 개의 자연수를 동시에 입력받아 합계와 평균을 구하는 프로그램을 작성해 보자.\n",
        "\n",
        "<img src=\"https://github.com/KimJEssam/firstTest/blob/main/162_4.PNG?raw=true\" width=200>\n",
        "\n",
        "<img src=\"https://github.com/KimJEssam/firstTest/blob/main/162_3.PNG?raw=true\" width=600>"
      ],
      "metadata": {
        "id": "Y9PtDxXqaE1o"
      }
    },
    {
      "cell_type": "code",
      "source": [
        ""
      ],
      "metadata": {
        "id": "pUTgjGMlaMJo"
      },
      "execution_count": null,
      "outputs": []
    },
    {
      "cell_type": "markdown",
      "source": [
        "2. 외장 함수\n",
        "\n",
        "<img src=\"https://github.com/KimJEssam/firstTest/blob/main/163_1.PNG?raw=true\" width=650>\n",
        "\n"
      ],
      "metadata": {
        "id": "syUW6uvlaH76"
      }
    },
    {
      "cell_type": "markdown",
      "source": [
        "><img src=\"https://github.com/KimJEssam/firstTest/blob/main/163_2.PNG?raw=true\" width=200>"
      ],
      "metadata": {
        "id": "5zE2JhtDbJIn"
      }
    },
    {
      "cell_type": "markdown",
      "source": [
        "><img src=\"https://github.com/KimJEssam/firstTest/blob/main/163_3.PNG?raw=true\" width=650>"
      ],
      "metadata": {
        "id": "1vXbNO8HbPOW"
      }
    },
    {
      "cell_type": "markdown",
      "source": [
        "**[스스로 해결하기 4]** random모듈을 이용하여 컴퓨터와 가위바위보 게임을 하는 프로그램을 작성해 보자.\n",
        "\n",
        "<img src=\"https://github.com/KimJEssam/firstTest/blob/main/163_4.PNG?raw=true\" width=200>"
      ],
      "metadata": {
        "id": "s5pjMNh0bw5h"
      }
    },
    {
      "cell_type": "markdown",
      "source": [
        "><img src=\"https://github.com/KimJEssam/firstTest/blob/main/163_5.PNG?raw=true\" width=600>"
      ],
      "metadata": {
        "id": "ul9bse_2b98T"
      }
    },
    {
      "cell_type": "code",
      "source": [
        ""
      ],
      "metadata": {
        "id": "1YjnX9MocBdZ"
      },
      "execution_count": null,
      "outputs": []
    },
    {
      "cell_type": "markdown",
      "source": [
        "#4. 함수의 활용\n",
        "함수를 활용하여 프로그램을 작성할 수 있을까?\n",
        "\n",
        "<img src=\"https://github.com/KimJEssam/firstTest/blob/main/164_1.PNG?raw=true\" width=200>\n",
        "\n",
        "**[맵]의 변화과정**\n",
        "\n",
        "<img src=\"https://github.com/KimJEssam/firstTest/blob/main/164_2.PNG?raw=true\" width=200>>>\n",
        "<img src=\"https://github.com/KimJEssam/firstTest/blob/main/164_3.PNG?raw=true\" width=200>>>\n",
        "<img src=\"https://github.com/KimJEssam/firstTest/blob/main/164_4.PNG?raw=true\" width=200>>>\n",
        "<img src=\"https://github.com/KimJEssam/firstTest/blob/main/164_5.PNG?raw=true\" width=200>\n",
        "\n",
        "\n"
      ],
      "metadata": {
        "id": "2uq8PKTfco7V"
      }
    },
    {
      "cell_type": "markdown",
      "source": [
        "><img src=\"https://github.com/KimJEssam/firstTest/blob/main/164_6.PNG?raw=true\" width=500>"
      ],
      "metadata": {
        "id": "BR_s6GhdfcY_"
      }
    },
    {
      "cell_type": "markdown",
      "source": [
        "><img src=\"https://github.com/KimJEssam/firstTest/blob/main/164_7.PNG?raw=true\" width=550>"
      ],
      "metadata": {
        "id": "tIih7pR4fnT-"
      }
    },
    {
      "cell_type": "markdown",
      "source": [
        "><img src=\"https://github.com/KimJEssam/firstTest/blob/main/164_8.PNG?raw=true\" width=700>"
      ],
      "metadata": {
        "id": "9cKxaemHfn4q"
      }
    },
    {
      "cell_type": "code",
      "source": [
        ""
      ],
      "metadata": {
        "id": "Nt0x7FZNfocS"
      },
      "execution_count": null,
      "outputs": []
    },
    {
      "cell_type": "markdown",
      "source": [
        "**[스스로 해결하기 5]** 8행*9열 크기의 하트 모양을 출력하는 프로그램을 작성해 보자.\n",
        "\n",
        "<img src=\"https://github.com/KimJEssam/firstTest/blob/main/165_1.PNG?raw=true\" width=200>"
      ],
      "metadata": {
        "id": "Q7BhFdorgUhM"
      }
    },
    {
      "cell_type": "markdown",
      "source": [
        "><img src=\"https://github.com/KimJEssam/firstTest/blob/main/165_2.PNG?raw=true\" width=600>"
      ],
      "metadata": {
        "id": "K7Jrv8egg_B7"
      }
    },
    {
      "cell_type": "code",
      "source": [
        ""
      ],
      "metadata": {
        "id": "cQ1JJn-qhFkr"
      },
      "execution_count": null,
      "outputs": []
    },
    {
      "cell_type": "markdown",
      "source": [
        "**[응용하기]** 좌표, 크기, 개수, 색상을 지정ㅇ하여 다음과 같이 출력하는 프로그램을 작성해 보자.\n",
        "\n",
        "<img src=\"https://github.com/KimJEssam/firstTest/blob/main/165_3.PNG?raw=true\" width=200>"
      ],
      "metadata": {
        "id": "8-voER1MhIxf"
      }
    },
    {
      "cell_type": "markdown",
      "source": [
        "> <img src=\"https://github.com/KimJEssam/firstTest/blob/main/165_4.PNG?raw=true\" width=600>"
      ],
      "metadata": {
        "id": "JVrdW46ChV0c"
      }
    },
    {
      "cell_type": "code",
      "source": [
        ""
      ],
      "metadata": {
        "id": "Pq4alDGDhXZJ"
      },
      "execution_count": null,
      "outputs": []
    }
  ]
}