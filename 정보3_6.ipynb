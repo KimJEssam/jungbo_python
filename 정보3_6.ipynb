{
  "nbformat": 4,
  "nbformat_minor": 0,
  "metadata": {
    "colab": {
      "name": "정보3-6.ipynb",
      "provenance": []
    },
    "kernelspec": {
      "name": "python3",
      "display_name": "Python 3"
    },
    "language_info": {
      "name": "python"
    }
  },
  "cells": [
    {
      "cell_type": "markdown",
      "source": [
        "# 고등학교 정보 3. 프로그래밍 (python) 3-6 배열의 활용\n",
        "<img src='https://github.com/KimJEssam/firstTest/blob/main/00.PNG?raw=true' width=180>\n"
      ],
      "metadata": {
        "id": "gl9dDpscF4Kx"
      }
    },
    {
      "cell_type": "markdown",
      "source": [
        "#1. 배열\n",
        "\n",
        "<img src=\"https://github.com/KimJEssam/firstTest/blob/main/148.PNG?raw=true\" width=300>\n",
        "---\n",
        "\n",
        "\n",
        "\n",
        ">태양계 행성 8개의 이름을 기억장소에 모두 저장하려면?\n",
        "\n",
        "<img src=\"https://github.com/KimJEssam/firstTest/blob/main/149_1.PNG?raw=true\">\n",
        "\n",
        ">배열을 사용하면?\n",
        "\n",
        "<img src=\"https://github.com/KimJEssam/firstTest/blob/main/149_2.PNG?raw=true\" width=500>\n",
        "\n",
        "\n",
        "---\n",
        "\n",
        "\n",
        ">배열의 특징\n",
        "\n",
        "<img src=\"https://github.com/KimJEssam/firstTest/blob/main/149_3.PNG?raw=true\" width=200>"
      ],
      "metadata": {
        "id": "Px5DSOiJxmYD"
      }
    },
    {
      "cell_type": "code",
      "source": [
        ""
      ],
      "metadata": {
        "id": "a5h7m8DBxOHM"
      },
      "execution_count": null,
      "outputs": []
    },
    {
      "cell_type": "markdown",
      "source": [
        "#2. 1차원 배열의 표현\n",
        ">초기값을 부여하는 방법\n",
        "\n",
        "<img src=\"https://github.com/KimJEssam/firstTest/blob/main/150_1.PNG?raw=true\" width=500>\n",
        "\n",
        ">배열의 크기를 지정하는 방법\n",
        "\n",
        "<img src=\"https://github.com/KimJEssam/firstTest/blob/main/150_2.PNG?raw=true\" width=500>\n",
        "\n",
        "<img src=\"https://github.com/KimJEssam/firstTest/blob/main/150_3.PNG?raw=true\" width=500>"
      ],
      "metadata": {
        "id": "sZMM2X7TPrmQ"
      }
    },
    {
      "cell_type": "markdown",
      "source": [
        ">**for문의 사용**\n",
        "\n",
        "<img src=\"https://github.com/KimJEssam/firstTest/blob/main/150_4.PNG?raw=true\" width=500>\n"
      ],
      "metadata": {
        "id": "FPeSUkKTRv8o"
      }
    },
    {
      "cell_type": "code",
      "source": [
        ""
      ],
      "metadata": {
        "id": "cEfRRngKRzHf"
      },
      "execution_count": null,
      "outputs": []
    },
    {
      "cell_type": "markdown",
      "source": [
        "> 1차원 배열의 특정 요소에 접근할 때\n",
        "\n",
        "<img src=\"https://github.com/KimJEssam/firstTest/blob/main/151_1.PNG?raw=true\" width=500>"
      ],
      "metadata": {
        "id": "bW6FsrBrUEQE"
      }
    },
    {
      "cell_type": "code",
      "source": [
        ""
      ],
      "metadata": {
        "id": "d9SC9NP0UcZH"
      },
      "execution_count": null,
      "outputs": []
    },
    {
      "cell_type": "markdown",
      "source": [
        "**[스스로 해결하기]** 태양계의 8개 행성 이름을 1차원 배열을 이용하여 순서대로 저장한 후 5번째 행성의 이름을 출력하는 프로그램을 작성해 보자.\n",
        "\n",
        "<img src=\"https://github.com/KimJEssam/firstTest/blob/main/151_2.PNG?raw=true\" width=700>"
      ],
      "metadata": {
        "id": "3kB2xWgjUctV"
      }
    },
    {
      "cell_type": "code",
      "source": [
        ""
      ],
      "metadata": {
        "id": "sJhjcc4wUxOA"
      },
      "execution_count": null,
      "outputs": []
    },
    {
      "cell_type": "markdown",
      "source": [
        "**[응용하기]** 태양계의 8개 행성의 크기를 1차원 배열로 순서대로 저장한 수 행성의 크기가 가장 큰 값을 찾아 출력하는 프로그램을 작성해 보자.\n",
        "\n",
        "<img src=\"https://github.com/KimJEssam/firstTest/blob/main/151_3.PNG?raw=true\" width=700>"
      ],
      "metadata": {
        "id": "uPVY_RTlU1AQ"
      }
    },
    {
      "cell_type": "code",
      "source": [
        ""
      ],
      "metadata": {
        "id": "HAhnVz5EU1lk"
      },
      "execution_count": null,
      "outputs": []
    },
    {
      "cell_type": "markdown",
      "source": [
        "#3.2차원 배열의 표현\n",
        ">태양계 행성의 이름뿐만 아니라 크기, 질량을 저장하려면?\n",
        "\n",
        ">2차원 배열의 예\n",
        "\n",
        "<img src=\"https://github.com/KimJEssam/firstTest/blob/main/152_1.PNG?raw=true\" width=150>\n",
        "\n",
        ">2차원 배열을 만드는 방법\n",
        "\n",
        "<img src=\"https://github.com/KimJEssam/firstTest/blob/main/152_2.PNG?raw=true\" width=500>\n",
        "\n",
        ">2차원 배열 == 리스트 \n",
        "\n",
        "<img src=\"https://github.com/KimJEssam/firstTest/blob/main/152_3.PNG?raw=true\" width=500>"
      ],
      "metadata": {
        "id": "LSdepplkXiiK"
      }
    },
    {
      "cell_type": "code",
      "source": [
        ""
      ],
      "metadata": {
        "id": "v4rf0lEQbhCP"
      },
      "execution_count": null,
      "outputs": []
    },
    {
      "cell_type": "markdown",
      "source": [
        ">2차원 배열의 특정 요소에 접근할 때\n",
        "\n",
        "<img src=\"https://github.com/KimJEssam/firstTest/blob/main/153_1.PNG?raw=true\" width=500>"
      ],
      "metadata": {
        "id": "SzLSDF6pZ32j"
      }
    },
    {
      "cell_type": "code",
      "source": [
        ""
      ],
      "metadata": {
        "id": "gm0BJtdgcXbX"
      },
      "execution_count": null,
      "outputs": []
    },
    {
      "cell_type": "markdown",
      "source": [
        "**[스스로 해결하기]** 태양계 8개의 행성 중에서 특성행성의 이름, 크기, 질량을 출력하는 프로그램을 작성해 보자.(단, 크기는 행성의 반지름을 km로 나타내고 질량은 지구를 1로 했을 때 상대적인 질량으로 나타낸다.)\n",
        "\n",
        "<img src=\"https://github.com/KimJEssam/firstTest/blob/main/153_2.PNG?raw=true\" width=600>"
      ],
      "metadata": {
        "id": "GXm4ucoJchon"
      }
    },
    {
      "cell_type": "code",
      "source": [
        ""
      ],
      "metadata": {
        "id": "Pq19UNy7c8v1"
      },
      "execution_count": null,
      "outputs": []
    },
    {
      "cell_type": "markdown",
      "source": [
        "**[더알아보기]** 리스트 내포와 리스트 내장 메소드\n",
        "1.   리스트 내포\n",
        "\n",
        "<img src=\"https://github.com/KimJEssam/firstTest/blob/main/154_1.png?raw=true\" width=300>\n",
        "\n",
        "2.  형식\n",
        "\n",
        "<img src=\"https://github.com/KimJEssam/firstTest/blob/main/154_2.png?raw=true\" width=300>\n",
        "\n",
        "\n",
        "3. 리스트 내포 사용 예\n",
        "\n",
        "><img src=\"https://github.com/KimJEssam/firstTest/blob/main/154_3.png?raw=true\" width=600>"
      ],
      "metadata": {
        "id": "8vq1zRn5Rhot"
      }
    },
    {
      "cell_type": "code",
      "source": [
        ""
      ],
      "metadata": {
        "id": "vsZ1blBgUbk3"
      },
      "execution_count": null,
      "outputs": []
    },
    {
      "cell_type": "markdown",
      "source": [
        "><img src=\"https://github.com/KimJEssam/firstTest/blob/main/154_4.png?raw=true\" width=300>"
      ],
      "metadata": {
        "id": "NzJvo-E0g3rx"
      }
    },
    {
      "cell_type": "code",
      "source": [
        ""
      ],
      "metadata": {
        "id": "k-VghNvaUk_U"
      },
      "execution_count": null,
      "outputs": []
    },
    {
      "cell_type": "markdown",
      "source": [
        "\n",
        "><img src=\"https://github.com/KimJEssam/firstTest/blob/main/154_5.png?raw=true\" width=300>\n",
        "\n"
      ],
      "metadata": {
        "id": "1OgacS7Ng59s"
      }
    },
    {
      "cell_type": "code",
      "source": [
        ""
      ],
      "metadata": {
        "id": "A1GDspcghdmB"
      },
      "execution_count": null,
      "outputs": []
    },
    {
      "cell_type": "markdown",
      "source": [
        "><img src=\"https://github.com/KimJEssam/firstTest/blob/main/154_6.png?raw=true\" width=400>\n"
      ],
      "metadata": {
        "id": "4eH580zrg-me"
      }
    },
    {
      "cell_type": "code",
      "source": [
        ""
      ],
      "metadata": {
        "id": "xiZRT_OMhehc"
      },
      "execution_count": null,
      "outputs": []
    },
    {
      "cell_type": "markdown",
      "source": [
        "\n",
        "><img src=\"https://github.com/KimJEssam/firstTest/blob/main/154_7.png?raw=true\" width=550>"
      ],
      "metadata": {
        "id": "o0a4q6eYhATc"
      }
    },
    {
      "cell_type": "code",
      "source": [
        ""
      ],
      "metadata": {
        "id": "TnMxH5s0Uk4j"
      },
      "execution_count": null,
      "outputs": []
    },
    {
      "cell_type": "markdown",
      "source": [
        "**[스스로 해결하기 1]** 구구단 중에서 7단을 1차원 배열에 저장하는 프로그램을 작성해 보자.\n",
        "\n",
        "<img src=\"https://github.com/KimJEssam/firstTest/blob/main/155_0.png?raw=true\" width=200>\n",
        "\n",
        "1. 리스트 내포 구문 사용\n",
        "\n",
        "><img src=\"https://github.com/KimJEssam/firstTest/blob/main/155_1.png?raw=true\" width=230>\n",
        "\n",
        "2. 리스트 내장 메소드 사용\n",
        "\n",
        "><img src=\"https://github.com/KimJEssam/firstTest/blob/main/155_2.png?raw=true\" width=200>"
      ],
      "metadata": {
        "id": "_IIccFi3Ua_E"
      }
    },
    {
      "cell_type": "code",
      "source": [
        ""
      ],
      "metadata": {
        "id": "4bGhwc-caTzz"
      },
      "execution_count": null,
      "outputs": []
    },
    {
      "cell_type": "code",
      "source": [
        ""
      ],
      "metadata": {
        "id": "uEGHI__1aULe"
      },
      "execution_count": null,
      "outputs": []
    },
    {
      "cell_type": "markdown",
      "source": [
        "**[스스로 해결하기 2]** 128의 모든 약수를 1차원 배열에 저장하는 프로그램을 작성해 보자.\n",
        "\n",
        "1. 리스트 내포 구문 사용\n",
        "\n",
        "><img src=\"https://github.com/KimJEssam/firstTest/blob/main/155_3.png?raw=true\" width=300>\n",
        "\n",
        "2. 리스트 내장 메소드 사용\n",
        "\n",
        "><img src=\"https://github.com/KimJEssam/firstTest/blob/main/155_4.png?raw=true\" width=300>"
      ],
      "metadata": {
        "id": "L2vPpCFFaUtV"
      }
    },
    {
      "cell_type": "code",
      "source": [
        ""
      ],
      "metadata": {
        "id": "3cs_wAcDbXwn"
      },
      "execution_count": null,
      "outputs": []
    },
    {
      "cell_type": "code",
      "source": [
        ""
      ],
      "metadata": {
        "id": "kZmxu5rSbYOV"
      },
      "execution_count": null,
      "outputs": []
    },
    {
      "cell_type": "markdown",
      "source": [
        "#4. 배열의 활용\n",
        "'미키마우스.txt' 파일에는 0과 1로만 이루어진 자료가 들어있다. 이 파일을 읽어서 터틀 캔버스 상에 0은 흰점, 1은 검은점으로 표현하여 미키마우스 이미지를 출력하는 프로그램을 작성해 보자.\n",
        "\n",
        "<img src=\"https://github.com/KimJEssam/firstTest/blob/main/156_1.png?raw=true\" width=100>\n",
        "\n",
        "문제분석\n",
        "\n",
        "<img src=\"https://github.com/KimJEssam/firstTest/blob/main/156_2.png?raw=true\" width=500>\n",
        "\n",
        "Turtle 그래픽 명령어\n",
        "\n",
        "<img src=\"https://github.com/KimJEssam/firstTest/blob/main/156_3.png?raw=true\" width=200>\n",
        "\n",
        "실행결과\n",
        "\n",
        "<img src=\"https://github.com/KimJEssam/firstTest/blob/main/156_4.png?raw=true\" width=200>\n",
        "\n",
        "프로그램\n",
        "\n",
        "><img src=\"https://github.com/KimJEssam/firstTest/blob/main/156_5.png?raw=true\" width=600>"
      ],
      "metadata": {
        "id": "_lNWuEv6bbYn"
      }
    },
    {
      "cell_type": "code",
      "source": [
        ""
      ],
      "metadata": {
        "id": "B-QBt-fedxsJ"
      },
      "execution_count": null,
      "outputs": []
    },
    {
      "cell_type": "markdown",
      "source": [
        "[함께 해결하기] '암호표.txt'파일에는 암고 해독표가 있다. 콘솔을 통해 암호문을 입력받아 다음과 같은 규칙에 따라 암호문을 해독하여 원문을 출력하는 프로그램을 작성해 보자.\n",
        "\n",
        "'암호표.txt'의 내용\n",
        "\n",
        "><img src=\"https://github.com/KimJEssam/firstTest/blob/main/157_1.png?raw=true\" width=150>\n",
        "\n",
        "암호문 해독 규칙\n",
        "\n",
        "><img src=\"https://github.com/KimJEssam/firstTest/blob/main/157_2.png?raw=true\" width=400>\n",
        "\n",
        "알고리즘 설계\n",
        "\n",
        "><img src=\"https://github.com/KimJEssam/firstTest/blob/main/157_3.png?raw=true\" width=400>\n",
        "\n",
        "프로그램\n",
        "\n",
        "><img src=\"https://github.com/KimJEssam/firstTest/blob/main/157_4.png?raw=true\" width=600>\n"
      ],
      "metadata": {
        "id": "osT5NIvXeFnQ"
      }
    },
    {
      "cell_type": "code",
      "source": [
        ""
      ],
      "metadata": {
        "id": "xAqJThXDghgc"
      },
      "execution_count": null,
      "outputs": []
    }
  ]
}