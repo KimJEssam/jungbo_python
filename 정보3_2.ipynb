{
  "nbformat": 4,
  "nbformat_minor": 0,
  "metadata": {
    "colab": {
      "name": "정보3-2.ipynb",
      "provenance": []
    },
    "kernelspec": {
      "name": "python3",
      "display_name": "Python 3"
    },
    "language_info": {
      "name": "python"
    }
  },
  "cells": [
    {
      "cell_type": "markdown",
      "source": [
        "# 고등학교 정보 3. 프로그래밍 (python) 3-2 변수와 자료형\n",
        "<img src='https://github.com/KimJEssam/firstTest/blob/main/0%20%EC%9E%90%EB%8F%99%EC%B0%A8%EB%8A%94%20%EA%B0%80%EC%86%94%EB%A6%B0%EC%9D%B4%20%EC%95%84%EB%8B%88%EB%9D%BC%20SW%EB%A1%9C%20%EC%9B%80%EC%A7%81%EC%9D%B8%EB%8B%A4.PNG?raw=true' width=180>\n"
      ],
      "metadata": {
        "id": "gl9dDpscF4Kx"
      }
    },
    {
      "cell_type": "markdown",
      "source": [
        "###1. 자료형의 종류와 특성\n",
        "\n",
        "<img src=\"https://github.com/KimJEssam/firstTest/blob/main/127%20%EC%9E%90%EB%A3%8C%ED%98%95.PNG?raw=true\" width=600>\n",
        "\n"
      ],
      "metadata": {
        "id": "GMbw-in0i2_T"
      }
    },
    {
      "cell_type": "markdown",
      "source": [
        ">  변수란?\n",
        "\n",
        "<img src=\"https://github.com/KimJEssam/firstTest/blob/main/126%20%EB%B3%80%EC%88%98_%EC%99%9C%EC%95%88%EB%93%A4%EC%96%B4%EA%B0%80%EC%A7%80.PNG?raw=true\" width=200>"
      ],
      "metadata": {
        "id": "z4yL0RWGZ9dK"
      }
    },
    {
      "cell_type": "code",
      "source": [
        "# 숫자형:\n",
        "# 문자열형:\n",
        "# 리스트:\n",
        "# 튜플:\n",
        "# 딕셔너리:"
      ],
      "metadata": {
        "id": "-urIc9rrZyHm"
      },
      "execution_count": null,
      "outputs": []
    },
    {
      "cell_type": "markdown",
      "source": [
        "\n",
        "###2. 변수의 활용\n",
        "> type()함수\n",
        "\n",
        "<img src=\"https://github.com/KimJEssam/firstTest/blob/main/128%20type.PNG?raw=true\">"
      ],
      "metadata": {
        "id": "AlL9kUzzjCMc"
      }
    },
    {
      "cell_type": "markdown",
      "source": [
        "####**변수명 작성방법**\n",
        ">1.   첫번째 문자는..\n",
        "2.   나머지 문자는..\n",
        "3.   대소문자 구분?(  )\n",
        "4.   예약어 사용가능?(  )\n",
        "5.   공백(  )?(  )\n",
        "6.   하이픈(-)?( )\n",
        "7.   여러단어로 이루어진 경우 가독성을 높이기 위해 첫번째 문자는 대문자로 작성하는 것이 좋다?  예) myAge, countOfStudents\n",
        "\n",
        "**[실습1]**두 변수의 값을 서로 교환 해보자.\n",
        "\n",
        "<img src=\"https://github.com/KimJEssam/firstTest/blob/main/128%20exchange.PNG?raw=true\" width=110>\n",
        "\n",
        "```\n",
        "str1 = \"You need python\"\n",
        "str2 = \"Life is too short\"\n",
        "temp = str1\n",
        "str1 = str2\n",
        "str2 = temp\n",
        "print(str1)\n",
        "print(str2)\n",
        "```\n",
        "\n",
        "\n",
        "\n"
      ],
      "metadata": {
        "id": "a0SUzIkGjLVc"
      }
    },
    {
      "cell_type": "code",
      "source": [
        ""
      ],
      "metadata": {
        "id": "7Bbww1EojASW"
      },
      "execution_count": null,
      "outputs": []
    },
    {
      "cell_type": "markdown",
      "source": [
        "####[실습2]두 변수의 값을 서로 교환 해보자.\n",
        "```\n",
        "num1 = 100\n",
        "num2 = 200\n",
        "num1, num2 = num2, num1\n",
        "print(num1, num2)\n",
        "```"
      ],
      "metadata": {
        "id": "8oh33h9d4BZV"
      }
    },
    {
      "cell_type": "code",
      "source": [
        ""
      ],
      "metadata": {
        "id": "r43RfTif4AwM"
      },
      "execution_count": null,
      "outputs": []
    },
    {
      "cell_type": "markdown",
      "source": [
        "####[스스로 해결하기**1**] 실행 후 각 변수에 저장되는 최종 값은?\n",
        "```\n",
        "sum = 0\n",
        "num1 = 100\n",
        "num1 = num1 + 100\n",
        "num2 = 300\n",
        "sum = num1 + num2\n",
        "```\n"
      ],
      "metadata": {
        "id": "w_YYWqHiqakv"
      }
    },
    {
      "cell_type": "code",
      "source": [
        "# num1=\n",
        "# num2=\n",
        "# sum=  "
      ],
      "metadata": {
        "id": "367Fm7gbafD8"
      },
      "execution_count": null,
      "outputs": []
    },
    {
      "cell_type": "markdown",
      "source": [
        "####[스스로 해결하기**2**] \n",
        "1. 변수에 값을 저장하고 변수의 자료형을 알아보는 프로그램을 작성해 보자."
      ],
      "metadata": {
        "id": "TaLH1uOj5kHZ"
      }
    },
    {
      "cell_type": "code",
      "execution_count": null,
      "metadata": {
        "id": "kdZLtWi4F0Og"
      },
      "outputs": [],
      "source": [
        ""
      ]
    },
    {
      "cell_type": "code",
      "source": [
        ""
      ],
      "metadata": {
        "id": "ZmLymR9O6n2a"
      },
      "execution_count": null,
      "outputs": []
    },
    {
      "cell_type": "code",
      "source": [
        ""
      ],
      "metadata": {
        "id": "NZa-Ime_6nu0"
      },
      "execution_count": null,
      "outputs": []
    },
    {
      "cell_type": "code",
      "source": [
        ""
      ],
      "metadata": {
        "id": "riNXzbQn6nmS"
      },
      "execution_count": null,
      "outputs": []
    },
    {
      "cell_type": "code",
      "source": [
        ""
      ],
      "metadata": {
        "id": "fK6Fc5Qa6ncT"
      },
      "execution_count": null,
      "outputs": []
    },
    {
      "cell_type": "code",
      "source": [
        ""
      ],
      "metadata": {
        "id": "SdJ_lYMr6nSQ"
      },
      "execution_count": null,
      "outputs": []
    },
    {
      "cell_type": "code",
      "source": [
        ""
      ],
      "metadata": {
        "id": "cVZrNGSD6nFS"
      },
      "execution_count": null,
      "outputs": []
    },
    {
      "cell_type": "markdown",
      "source": [
        "2. 정수형(int) 자료와 실수형(float) 자료를 연산하면 (가)에는 어떤 결과가 나타나는가?\n",
        "```\n",
        "pi = 3.14\n",
        "area = 5 * 5 * pi\n",
        "type(area)\n",
        "```\n",
        ">실행결과<class '(가)'>\n"
      ],
      "metadata": {
        "id": "SmRxIqbNteAf"
      }
    },
    {
      "cell_type": "markdown",
      "source": [
        "3. 다음 프로그램을 실행하면 어떤 결과가 나타나는가?\n",
        "```\n",
        "thisYear = 2022\n",
        "myBirthYear = \"2004\"\n",
        "age = thisYear - myBirthYear\n",
        "print(age)\n",
        "```\n",
        ">실행결과?"
      ],
      "metadata": {
        "id": "uFioacEt8yib"
      }
    },
    {
      "cell_type": "code",
      "source": [
        ""
      ],
      "metadata": {
        "id": "QXJhghQMvVGh"
      },
      "execution_count": null,
      "outputs": []
    }
  ]
}