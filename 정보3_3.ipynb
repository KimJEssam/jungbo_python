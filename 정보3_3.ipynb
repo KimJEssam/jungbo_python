{
  "nbformat": 4,
  "nbformat_minor": 0,
  "metadata": {
    "colab": {
      "name": "정보3-3.ipynb",
      "provenance": []
    },
    "kernelspec": {
      "name": "python3",
      "display_name": "Python 3"
    },
    "language_info": {
      "name": "python"
    }
  },
  "cells": [
    {
      "cell_type": "markdown",
      "source": [
        "# 고등학교 정보 3. 프로그래밍 (python) 3-3 연산자\n",
        "<img src='https://github.com/KimJEssam/firstTest/blob/main/0%20%EC%9E%90%EB%8F%99%EC%B0%A8%EB%8A%94%20%EA%B0%80%EC%86%94%EB%A6%B0%EC%9D%B4%20%EC%95%84%EB%8B%88%EB%9D%BC%20SW%EB%A1%9C%20%EC%9B%80%EC%A7%81%EC%9D%B8%EB%8B%A4.PNG?raw=true' width=180>\n"
      ],
      "metadata": {
        "id": "gl9dDpscF4Kx"
      }
    },
    {
      "cell_type": "markdown",
      "source": [
        "###1. 다양한 연산자의 종류\n",
        "<img src=\"https://github.com/KimJEssam/firstTest/blob/main/131%20%EC%82%B0%EC%88%A0%EC%97%B0%EC%82%B0%EC%9E%90.PNG?raw=true\" width=500>\n",
        "\n",
        ">  연산자 우선순위\n",
        "\n",
        "<img src=\"https://raw.githubusercontent.com/KimJEssam/firstTest/89f16c01330ac54e417847f83f6b3d6584ad1ae0/131%20%EC%97%B0%EC%82%B0%EC%9E%90%20%EC%9A%B0%EC%84%A0%EC%88%9C%EC%9C%84.PNG\" width=200>\n"
      ],
      "metadata": {
        "id": "GMbw-in0i2_T"
      }
    },
    {
      "cell_type": "markdown",
      "source": [
        "> print()함수\n",
        "*   화면에 무엇인가를 출력할 때 사용하는 함수로, ()의 내용을 화면에 출력한다.\n",
        "*   하나의 print()함수로 문자열과 변수를 동시에 출력할 때에는 ','연산자로 구분한다.\n",
        "\n",
        "<img src=\"https://lh6.googleusercontent.com/Tufk0bBnw7lEHTTD8Nz0Z5DUd0fZnkqnVUduAA40oDMQwn8-GaxNJt-JAIE6qyFoFwXTTpM0Ee6BXKozdJVn3rmDM0EUj7YgHJFmJL9KqAFrf4nbA97La8E-SRe8TujUbg=w1280\" width=220>\n",
        "\n"
      ],
      "metadata": {
        "id": "KS6ODPoXABC9"
      }
    },
    {
      "cell_type": "markdown",
      "source": [
        ">산술연산의 결과는 숫자이다\n",
        "*  산술연산자: "
      ],
      "metadata": {
        "id": "QgoHK6SxLAz3"
      }
    },
    {
      "cell_type": "code",
      "source": [
        "x, y = 17, 4\n"
      ],
      "metadata": {
        "id": "bThPFgs4_1Cp"
      },
      "execution_count": null,
      "outputs": []
    },
    {
      "cell_type": "markdown",
      "source": [
        ">비교연산의 결과는 True, False\n",
        "* 비교연산자:"
      ],
      "metadata": {
        "id": "F90mUPJOL9Ro"
      }
    },
    {
      "cell_type": "code",
      "source": [
        "x, y = 10, 14"
      ],
      "metadata": {
        "id": "UAcXWrKKCu_J"
      },
      "execution_count": null,
      "outputs": []
    },
    {
      "cell_type": "markdown",
      "source": [
        ">논리연산의 결과는 True, False\n",
        "*  논리연산자:"
      ],
      "metadata": {
        "id": "NHInAIrOMIZ5"
      }
    },
    {
      "cell_type": "code",
      "source": [
        "x, y = True, False"
      ],
      "metadata": {
        "id": "bXc4zbGLDbhX"
      },
      "execution_count": null,
      "outputs": []
    },
    {
      "cell_type": "markdown",
      "source": [
        "> 진리표\n",
        "\n",
        "<img src=\"https://github.com/KimJEssam/firstTest/blob/main/132%20%EC%A7%84%EB%A6%AC%ED%91%9C.PNG?raw=true\" width=200>"
      ],
      "metadata": {
        "id": "fUqk4tc5CtHW"
      }
    },
    {
      "cell_type": "markdown",
      "source": [
        "비교연산자와 논리연산자를 이용하여 아이디와 패스워드를 검사하여, True 또는 False를 출력하는 프로그램을 작성하자."
      ],
      "metadata": {
        "id": "AlL9kUzzjCMc"
      }
    },
    {
      "cell_type": "code",
      "source": [
        ""
      ],
      "metadata": {
        "id": "o1uZalUeFMgi"
      },
      "execution_count": null,
      "outputs": []
    },
    {
      "cell_type": "markdown",
      "source": [
        "대입연산자를 사용하는 연산에서 결과값이 저장되는 변수가 연산에 사용되는 경우, 간소화된 축약형 연산자를 사용할 수 있다.\n",
        "```\n",
        "x = 10\n",
        "x = x + 10 / 2\n",
        "print(x)\n",
        "```\n",
        "\n",
        "\n",
        "\n"
      ],
      "metadata": {
        "id": "a0SUzIkGjLVc"
      }
    },
    {
      "cell_type": "code",
      "source": [
        ""
      ],
      "metadata": {
        "id": "7Bbww1EojASW"
      },
      "execution_count": null,
      "outputs": []
    },
    {
      "cell_type": "markdown",
      "source": [
        "####[스스로 해결하기]\n",
        "1. (가), (나)에 필요한 연산자를 채워 사용자가 금액을 입력하면 50000원, 10000원, 5000원, 1000원 지폐를 최소한의 개수로 출금하는 프로그램을 완성해 보자.\n",
        "\n",
        "\n",
        "> <img src=\"https://github.com/KimJEssam/firstTest/blob/main/133%20%EC%A7%80%ED%8F%90%EA%B0%AF%EC%88%98.PNG?raw=true\" width=280>"
      ],
      "metadata": {
        "id": "8oh33h9d4BZV"
      }
    },
    {
      "cell_type": "code",
      "source": [
        ""
      ],
      "metadata": {
        "id": "iofwbsruTBZk"
      },
      "execution_count": null,
      "outputs": []
    },
    {
      "cell_type": "markdown",
      "source": [
        "2. 다음 수식의 연산 결과를 적어 보자.\n",
        "<img src=\"https://github.com/KimJEssam/firstTest/blob/main/133%20%EC%88%98%EC%8B%9D%EC%9D%98%20%EC%97%B0%EC%82%B0%EA%B2%B0%EA%B3%BC.PNG?raw=true\" width=900>\n",
        "\n",
        ">[답]"
      ],
      "metadata": {
        "id": "B991J-mtTP4q"
      }
    },
    {
      "cell_type": "markdown",
      "source": [
        "3. (가)~(다)에 출력되는 a값은 얼마인가?\n",
        "<img src=\"https://github.com/KimJEssam/firstTest/blob/main/133%20(%EA%B0%80)-(%EB%8B%A4)%EC%97%90%20%EC%B6%9C%EB%A0%A5%EB%90%98%EB%8A%94%20a%EA%B0%92.PNG?raw=true\" width=900>\n",
        "\n",
        ">[답]"
      ],
      "metadata": {
        "id": "5JCC3tuGULO3"
      }
    }
  ]
}