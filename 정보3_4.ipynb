{
  "nbformat": 4,
  "nbformat_minor": 0,
  "metadata": {
    "colab": {
      "name": "정보3-4.ipynb",
      "provenance": []
    },
    "kernelspec": {
      "name": "python3",
      "display_name": "Python 3"
    },
    "language_info": {
      "name": "python"
    }
  },
  "cells": [
    {
      "cell_type": "markdown",
      "source": [
        "# 고등학교 정보 3. 프로그래밍 (python) 3-4 표준입출력과 파일입출력\n",
        "<img src='https://github.com/KimJEssam/firstTest/blob/main/00.PNG?raw=true' width=180>\n"
      ],
      "metadata": {
        "id": "gl9dDpscF4Kx"
      }
    },
    {
      "cell_type": "markdown",
      "source": [
        "###1. 프로그램 처리 과정\n",
        "<img src=\"https://github.com/KimJEssam/firstTest/blob/main/135%20%EC%9E%85%EB%A0%A5%20%EC%B2%98%EB%A6%AC%20%EC%B6%9C%EB%A0%A5.png?raw=true\" width=300>\n"
      ],
      "metadata": {
        "id": "GMbw-in0i2_T"
      }
    },
    {
      "cell_type": "markdown",
      "source": [
        "###2. 표준입출력\n",
        "<img src=\"https://github.com/KimJEssam/firstTest/blob/main/135%20%ED%91%9C%EC%A4%80%EC%9E%85%EC%B6%9C%EB%A0%A5.png?raw=true\" width=500>"
      ],
      "metadata": {
        "id": "KS6ODPoXABC9"
      }
    },
    {
      "cell_type": "code",
      "source": [
        ""
      ],
      "metadata": {
        "id": "YfYctuXBqBpu"
      },
      "execution_count": null,
      "outputs": []
    },
    {
      "cell_type": "code",
      "source": [
        ""
      ],
      "metadata": {
        "id": "NTgvb60pqA6D"
      },
      "execution_count": null,
      "outputs": []
    },
    {
      "cell_type": "markdown",
      "source": [
        "**[실습]**영화금액을 입력받고 예매안내를 출력하는 프로그램을 작성해 보자.\n",
        "\n",
        "<img src=\"https://github.com/KimJEssam/firstTest/blob/main/135%20%EC%98%81%ED%99%94%20%EC%98%88%EB%A7%A4%20%EC%95%88%EB%82%B4.png?raw=true\" width=300>"
      ],
      "metadata": {
        "id": "QgoHK6SxLAz3"
      }
    },
    {
      "cell_type": "code",
      "source": [
        ""
      ],
      "metadata": {
        "id": "POTKWiZ_rF3b"
      },
      "execution_count": null,
      "outputs": []
    },
    {
      "cell_type": "markdown",
      "source": [
        "###3.파일입출력\n",
        "\n",
        "> ***코랩에서 파일입출력(?)***\n",
        "\n",
        "\n",
        "\n",
        "<img src=\"https://github.com/KimJEssam/firstTest/blob/main/136%20%ED%8C%8C%EC%9D%BC%EC%9E%85%EC%B6%9C%EB%A0%A5.png?raw=true\" width=150>\n"
      ],
      "metadata": {
        "id": "d3giFMZ7rfhJ"
      }
    },
    {
      "cell_type": "markdown",
      "source": [
        ">파일입출력 함수의 종류 및 사용 방법\n",
        "\n",
        "<img src=\"https://github.com/KimJEssam/firstTest/blob/main/136%20%ED%8C%8C%EC%9D%BC%EC%9E%85%EC%B6%9C%EB%A0%A5%ED%95%A8%EC%88%98.png?raw=true\" width=500><<< <img src=\"https://github.com/KimJEssam/firstTest/blob/main/135%20%ED%91%9C%EC%A4%80%EC%9E%85%EC%B6%9C%EB%A0%A5%EB%AA%A8%EB%93%9C.png?raw=true\" width=200>"
      ],
      "metadata": {
        "id": "s0EEWG9_wJ5m"
      }
    },
    {
      "cell_type": "markdown",
      "source": [
        "**[실습]**영화 예매 프로그램 1\n",
        "\n",
        "> <img src=\"https://github.com/KimJEssam/firstTest/blob/main/136%20%EC%98%81%ED%99%94%EC%98%88%EB%A7%A4%ED%94%84%EB%A1%9C%EA%B7%B8%EB%9E%A8_1.png?raw=true\" width=500>\n",
        "\n"
      ],
      "metadata": {
        "id": "x0YqN4noLrtl"
      }
    },
    {
      "cell_type": "code",
      "source": [
        ""
      ],
      "metadata": {
        "id": "2QL9NMltMe1J"
      },
      "execution_count": null,
      "outputs": []
    },
    {
      "cell_type": "markdown",
      "source": [
        "**[응용하기]**다음과 같이 입력했을 때 파일(reserve.txt)에 출력이 되도록 프로그램을 작성해 보자.\n",
        "*   예약하실 분의 이름을 입력해 주세요: ***홍길동***\n",
        "*   영화를 관람하실 인원을 입력해 주세요:***1***\n",
        "\n",
        "<img src=\"https://github.com/KimJEssam/firstTest/blob/main/136%20%EC%9D%91%EC%9A%A9%ED%95%98%EA%B8%B0.png?raw=true\" width=150>\n",
        "\n"
      ],
      "metadata": {
        "id": "KYQLqZm1MkxY"
      }
    },
    {
      "cell_type": "code",
      "source": [
        ""
      ],
      "metadata": {
        "id": "Wbi0QsP7NuIy"
      },
      "execution_count": null,
      "outputs": []
    },
    {
      "cell_type": "markdown",
      "source": [
        "**[스스로 해결하기]**파일입출력 함수를 활용하여 ***영화 예매 프로그램 2*** 을 완성해 보자.\n",
        "<img src=\"https://github.com/KimJEssam/firstTest/blob/main/137%20%EC%8A%A4%EC%8A%A4%EB%A1%9C%ED%95%B4%EA%B2%B0%ED%95%98%EA%B8%B0_%EC%98%81%ED%99%94%EC%98%88%EB%A7%A4.png?raw=true\" width=500>"
      ],
      "metadata": {
        "id": "OCEeSkcSNu_F"
      }
    },
    {
      "cell_type": "code",
      "source": [
        ""
      ],
      "metadata": {
        "id": "p6m6F1bUZZNw"
      },
      "execution_count": null,
      "outputs": []
    },
    {
      "cell_type": "markdown",
      "source": [
        "move.txt와 reserve.txt\n",
        "\n",
        "\n",
        "---\n",
        "\n",
        "\n",
        "<img src=\"https://github.com/KimJEssam/firstTest/blob/main/137%20move.txt.png?raw=true\" width=200> <img src=\"https://github.com/KimJEssam/firstTest/blob/main/137%20reserve.txt.png?raw=true\" width=200> \n",
        "\n",
        "<img src=\"https://github.com/KimJEssam/firstTest/blob/main/137%20code.png?raw=true\" width=700>"
      ],
      "metadata": {
        "id": "n3hPqIniY1pP"
      }
    },
    {
      "cell_type": "code",
      "source": [
        ""
      ],
      "metadata": {
        "id": "jNOgWLM_Za20"
      },
      "execution_count": null,
      "outputs": []
    }
  ]
}