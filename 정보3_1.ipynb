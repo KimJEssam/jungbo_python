{
  "nbformat": 4,
  "nbformat_minor": 0,
  "metadata": {
    "colab": {
      "name": "정보3-1.ipynb",
      "provenance": []
    },
    "kernelspec": {
      "name": "python3",
      "display_name": "Python 3"
    },
    "language_info": {
      "name": "python"
    }
  },
  "cells": [
    {
      "cell_type": "markdown",
      "source": [
        "# 고등학교 정보 3. 프로그래밍 (python) \n",
        "<img src=\"https://github.com/KimJEssam/firstTest/blob/main/0%20%EC%9E%90%EB%8F%99%EC%B0%A8%EB%8A%94%20%EA%B0%80%EC%86%94%EB%A6%B0%EC%9D%B4%20%EC%95%84%EB%8B%88%EB%9D%BC%20SW%EB%A1%9C%20%EC%9B%80%EC%A7%81%EC%9D%B8%EB%8B%A4.PNG?raw=true\" width=200>"
      ],
      "metadata": {
        "id": "gl9dDpscF4Kx"
      }
    },
    {
      "cell_type": "markdown",
      "source": [
        "###1. 저급언어와 고급언어\n",
        "<img src=\"https://github.com/KimJEssam/firstTest/blob/main/123%20%EA%B8%B0%EA%B3%84%EC%96%B4%20%EC%96%B4%EC%85%88%EB%B8%94%EB%A6%AC%EC%96%B4%20%ED%8C%8C%EC%9D%B4%EC%8D%AC.PNG?raw=true\" width=600>\n",
        "\n",
        "\n",
        "\n",
        "\n",
        "\n"
      ],
      "metadata": {
        "id": "GMbw-in0i2_T"
      }
    },
    {
      "cell_type": "code",
      "source": [
        "# 저급언어:\n",
        "# 고급언어:"
      ],
      "metadata": {
        "id": "AcpgzZoCZIwt"
      },
      "execution_count": null,
      "outputs": []
    },
    {
      "cell_type": "markdown",
      "source": [
        "###2.언어번역프로그램의 종류\n"
      ],
      "metadata": {
        "id": "Ab2ojsH7Ye0Z"
      }
    },
    {
      "cell_type": "code",
      "source": [
        "# 어셈블러:\n",
        "# 컴파일러:\n",
        "# 인터프리터:"
      ],
      "metadata": {
        "id": "_CdND0G_Yjjt"
      },
      "execution_count": null,
      "outputs": []
    },
    {
      "cell_type": "markdown",
      "source": [
        "###3. 파이썬 프로그램 개발환경"
      ],
      "metadata": {
        "id": "np0cby1hYh8B"
      }
    },
    {
      "cell_type": "code",
      "source": [
        "# 파이썬:\n",
        "# 라이브러리:\n",
        "# 통합개발환경:"
      ],
      "metadata": {
        "id": "2jC1Vf2ZZZDb"
      },
      "execution_count": null,
      "outputs": []
    },
    {
      "cell_type": "markdown",
      "source": [
        "\n",
        "###파이썬 셸(Shell)창과 편집창\n",
        "<img src='https://github.com/KimJEssam/firstTest/blob/main/124%20%EC%85%80%20%EC%B0%BD.png?raw=true' width=260>\n",
        "<img src='https://github.com/KimJEssam/firstTest/blob/main/124%20%ED%8E%B8%EC%A7%91%EC%B0%BD.png?raw=true' width=200>\n",
        "\n"
      ],
      "metadata": {
        "id": "AlL9kUzzjCMc"
      }
    },
    {
      "cell_type": "markdown",
      "source": [
        "####실행순서\n",
        "1.   IDLE 실행하면 셸창이 열린다\n",
        "2.   [File][New File]\n",
        "3.   [File][Save]\n",
        "4.   [Run][Run Module] 혹은 [F5]\n",
        "\n",
        "####[실습]발표순서를 1번부터 30번까지 자동으로 정해주는 프로그램을 작성해보자.\n",
        "```\n",
        "import random\n",
        "nums=[n for n in range(1,31)]\n",
        "random.shuffle(nums)\n",
        "print(\"발표순서\")\n",
        "print(nums)\n",
        "```\n",
        "\n",
        "\n",
        "\n"
      ],
      "metadata": {
        "id": "a0SUzIkGjLVc"
      }
    },
    {
      "cell_type": "code",
      "source": [
        ""
      ],
      "metadata": {
        "id": "7Bbww1EojASW"
      },
      "execution_count": null,
      "outputs": []
    },
    {
      "cell_type": "markdown",
      "source": [
        "####[더 알아보기] 파이썬으로 그래픽 만들기\n",
        "<img src=\"https://github.com/KimJEssam/firstTest/blob/main/125%20%ED%8C%8C%EC%9D%B4%EC%8D%AC%EC%9C%BC%EB%A1%9C%20%EA%B7%B8%EB%9E%98%ED%94%BD%EB%A7%8C%EB%93%A4%EA%B8%B0.PNG?raw=true\">\n",
        "\n",
        "#### 터틀의 기본 명령어\n",
        "*   forward(): 전진하기\n",
        "*   backward(): 후진하기\n",
        "*   left(): 좌회전하기\n",
        "*   right(): 우회전하기\n",
        "*   circle(): 원 그리기\n",
        "\n"
      ],
      "metadata": {
        "id": "w_YYWqHiqakv"
      }
    },
    {
      "cell_type": "code",
      "execution_count": null,
      "metadata": {
        "id": "kdZLtWi4F0Og"
      },
      "outputs": [],
      "source": [
        ""
      ]
    },
    {
      "cell_type": "markdown",
      "source": [
        "####[응용하기]정육각형을 그리려면 어떻게 해야할까\n",
        "<img src=\"https://github.com/KimJEssam/firstTest/blob/main/125%20%ED%84%B0%ED%8B%80%20%EC%9C%A1%EA%B0%81%ED%98%95.PNG?raw=true\" width=200>"
      ],
      "metadata": {
        "id": "SmRxIqbNteAf"
      }
    },
    {
      "cell_type": "code",
      "source": [
        ""
      ],
      "metadata": {
        "id": "QXJhghQMvVGh"
      },
      "execution_count": null,
      "outputs": []
    }
  ]
}