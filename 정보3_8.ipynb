{
  "nbformat": 4,
  "nbformat_minor": 0,
  "metadata": {
    "colab": {
      "name": "정보3-8.ipynb",
      "provenance": []
    },
    "kernelspec": {
      "name": "python3",
      "display_name": "Python 3"
    },
    "language_info": {
      "name": "python"
    }
  },
  "cells": [
    {
      "cell_type": "markdown",
      "source": [
        "# 고등학교 정보 3. 프로그래밍 (python) 3-8 프로그래밍 응용\n",
        "<img src='https://github.com/KimJEssam/firstTest/blob/main/00.PNG?raw=true' width=180>\n"
      ],
      "metadata": {
        "id": "gl9dDpscF4Kx"
      }
    },
    {
      "cell_type": "markdown",
      "source": [
        "#1. 프로젝트의 이해\n",
        "다양한 학문의 문제를 소프트웨어로 협력하여 해결할 수 있는가?\n",
        "\n",
        "<img src=\"https://github.com/KimJEssam/firstTest/blob/main/167_1.PNG?raw=true\" width=200>"
      ],
      "metadata": {
        "id": "61_SqNKH-lOX"
      }
    },
    {
      "cell_type": "markdown",
      "source": [
        "#2. 프로젝트 준비\n",
        "프로젝트 준비단계에서 팀 구성과 역할을 명확히 분담할 수 있는가?\n",
        "\n",
        "<img src=\"https://github.com/KimJEssam/firstTest/blob/main/167_2.PNG?raw=true\" width=400>"
      ],
      "metadata": {
        "id": "2eTEhe4lG5e0"
      }
    },
    {
      "cell_type": "markdown",
      "source": [
        "#3. 프로젝트 수행\n",
        "1. 문제 발견\n",
        "\n",
        "2. 문제정의 \n",
        "\n",
        "<img src=\"https://github.com/KimJEssam/firstTest/blob/main/168_1.PNG?raw=true\" width=500>\n",
        "\n",
        "3. 아이디어 구상\n",
        "\n",
        "<img src=\"https://github.com/KimJEssam/firstTest/blob/main/168_2.PNG?raw=true\" width=500>\n",
        "\n",
        "4. 알고리즘 설계\n",
        "\n",
        "<img src=\"https://github.com/KimJEssam/firstTest/blob/main/169_1.PNG?raw=true\" width=700>\n",
        "\n",
        "5. 프로그래밍\n",
        "\n",
        "<img src=\"https://github.com/KimJEssam/firstTest/blob/main/169_2.PNG?raw=true\" width=200>\n",
        "\n",
        "\n",
        "6. 발표 및 평가\n",
        "\n",
        "\n",
        "\n"
      ],
      "metadata": {
        "id": "AWb9l9igHPjU"
      }
    },
    {
      "cell_type": "markdown",
      "source": [
        "**[함께 해결하기]**\n",
        "\n",
        "><img src=\"https://github.com/KimJEssam/firstTest/blob/main/169_3.PNG?raw=true\" width=700>"
      ],
      "metadata": {
        "id": "Y2G50v3zJRpe"
      }
    },
    {
      "cell_type": "markdown",
      "source": [
        ">* 팀이름:\n",
        ">* 팀구성원:\n",
        ">* 프로젝트 일정 계획하기:\n",
        ">* 프로젝트 기록하기:\n",
        ">* 아이디어 제시하기:\n",
        ">* 포트폴리오 정리하기:\n",
        ">* 알고리즘 설계하기:\n",
        ">* 프로그래밍:\n",
        ">* 발표 자료 만들기:\n",
        ">* 발표하기:\n",
        "\n",
        "\n"
      ],
      "metadata": {
        "id": "3xLLcTcDJnSO"
      }
    },
    {
      "cell_type": "markdown",
      "source": [
        "<img src=\"https://github.com/KimJEssam/firstTest/blob/main/170_1.PNG?raw=true\" width=600>"
      ],
      "metadata": {
        "id": "w-l4BAy3JhMr"
      }
    },
    {
      "cell_type": "markdown",
      "source": [
        "<img src=\"https://github.com/KimJEssam/firstTest/blob/main/170_2.PNG?raw=true\" width=600>"
      ],
      "metadata": {
        "id": "zgq_ZtneKoGf"
      }
    },
    {
      "cell_type": "code",
      "source": [
        ""
      ],
      "metadata": {
        "id": "dOf1iZPmK8X2"
      },
      "execution_count": null,
      "outputs": []
    },
    {
      "cell_type": "markdown",
      "source": [
        "<img src=\"https://github.com/KimJEssam/firstTest/blob/main/170_3.PNG?raw=true\" width=600>"
      ],
      "metadata": {
        "id": "y9oBMPWlLFiL"
      }
    },
    {
      "cell_type": "code",
      "source": [
        ""
      ],
      "metadata": {
        "id": "cPmbsjnzLYIM"
      },
      "execution_count": null,
      "outputs": []
    },
    {
      "cell_type": "markdown",
      "source": [
        "<img src=\"https://github.com/KimJEssam/firstTest/blob/main/171_1.PNG?raw=true\" width=550>"
      ],
      "metadata": {
        "id": "yLa9vsoyLYwM"
      }
    },
    {
      "cell_type": "code",
      "source": [
        ""
      ],
      "metadata": {
        "id": "Ff11VJV7LpsB"
      },
      "execution_count": null,
      "outputs": []
    },
    {
      "cell_type": "markdown",
      "source": [
        "<img src=\"https://github.com/KimJEssam/firstTest/blob/main/171_2.PNG?raw=true\" width=500>\n",
        "\n",
        "<img src=\"https://github.com/KimJEssam/firstTest/blob/main/171_3.PNG?raw=true\" width=400> vs. <img src=\"https://github.com/KimJEssam/firstTest/blob/main/172_1.PNG?raw=true\" width=400>\n",
        "\n",
        "<img src=\"https://github.com/KimJEssam/firstTest/blob/main/172_2.PNG?raw=true\" width=600>"
      ],
      "metadata": {
        "id": "cVOeQzbCLqI5"
      }
    },
    {
      "cell_type": "code",
      "source": [
        ""
      ],
      "metadata": {
        "id": "7J4SylglTgio"
      },
      "execution_count": null,
      "outputs": []
    },
    {
      "cell_type": "markdown",
      "source": [
        "<img src=\"https://github.com/KimJEssam/firstTest/blob/main/172_3.PNG?raw=true\" width=600>"
      ],
      "metadata": {
        "id": "ern9h4etThSK"
      }
    },
    {
      "cell_type": "code",
      "source": [
        ""
      ],
      "metadata": {
        "id": "BbyFYh2ZTi4d"
      },
      "execution_count": null,
      "outputs": []
    },
    {
      "cell_type": "markdown",
      "source": [
        "<img src=\"https://github.com/KimJEssam/firstTest/blob/main/173_1.PNG?raw=true\" width=600> \n",
        "\n",
        "<img src=\"https://github.com/KimJEssam/firstTest/blob/main/173_2.PNG?raw=true\" width=600>\n",
        "\n",
        " <img src=\"https://github.com/KimJEssam/firstTest/blob/main/173_3.PNG?raw=true\" width=650>"
      ],
      "metadata": {
        "id": "7Lz_Zg-hTrDr"
      }
    },
    {
      "cell_type": "markdown",
      "source": [
        "<img src=\"https://github.com/KimJEssam/firstTest/blob/main/174_1.PNG?raw=true\" width=700>"
      ],
      "metadata": {
        "id": "s6C8PkuYUUQe"
      }
    },
    {
      "cell_type": "markdown",
      "source": [
        "<img src=\"https://github.com/KimJEssam/firstTest/blob/main/174_2.PNG?raw=true\" width=700>"
      ],
      "metadata": {
        "id": "35TeXM_RUg4a"
      }
    },
    {
      "cell_type": "markdown",
      "source": [
        "<img src=\"https://github.com/KimJEssam/firstTest/blob/main/175_1.PNG?raw=true\" width=600> <img src=\"https://github.com/KimJEssam/firstTest/blob/main/175_2.PNG?raw=true\" width=600> "
      ],
      "metadata": {
        "id": "zS0BZZEZUq5w"
      }
    },
    {
      "cell_type": "markdown",
      "source": [
        "<img src=\"https://github.com/KimJEssam/firstTest/blob/main/175_3.PNG?raw=true\" width=600>"
      ],
      "metadata": {
        "id": "9wm8sS4BVBtk"
      }
    },
    {
      "cell_type": "code",
      "source": [
        ""
      ],
      "metadata": {
        "id": "AGGD6t9IVOOG"
      },
      "execution_count": null,
      "outputs": []
    },
    {
      "cell_type": "markdown",
      "source": [
        "<img src=\"https://github.com/KimJEssam/firstTest/blob/main/176_1.PNG?raw=true\" width=600> \n",
        "<img src=\"https://github.com/KimJEssam/firstTest/blob/main/176_2.PNG?raw=true\" width=700> "
      ],
      "metadata": {
        "id": "IAAHNg6NVRq8"
      }
    },
    {
      "cell_type": "markdown",
      "source": [
        "<img src=\"https://github.com/KimJEssam/firstTest/blob/main/176_3.PNG?raw=true\" width=600>"
      ],
      "metadata": {
        "id": "fWYU5KN0VnhU"
      }
    },
    {
      "cell_type": "code",
      "source": [
        ""
      ],
      "metadata": {
        "id": "5GQIXKDjJnhN"
      },
      "execution_count": null,
      "outputs": []
    },
    {
      "cell_type": "markdown",
      "source": [
        "<img src=\"https://github.com/KimJEssam/firstTest/blob/main/177_1.PNG?raw=true\" width=600>"
      ],
      "metadata": {
        "id": "eoTQB4fKV6PZ"
      }
    },
    {
      "cell_type": "markdown",
      "source": [
        "<img src=\"https://github.com/KimJEssam/firstTest/blob/main/179_1.PNG?raw=true\" width=400>\n",
        "<img src=\"https://github.com/KimJEssam/firstTest/blob/main/179_2.PNG?raw=true\" width=400>"
      ],
      "metadata": {
        "id": "TbDQwzvlWFuW"
      }
    },
    {
      "cell_type": "code",
      "source": [
        ""
      ],
      "metadata": {
        "id": "ZesaGAeRWaL7"
      },
      "execution_count": null,
      "outputs": []
    },
    {
      "cell_type": "code",
      "source": [
        ""
      ],
      "metadata": {
        "id": "6JYFBdtqWbF0"
      },
      "execution_count": null,
      "outputs": []
    },
    {
      "cell_type": "code",
      "source": [
        ""
      ],
      "metadata": {
        "id": "n5LmseL2Wa6I"
      },
      "execution_count": null,
      "outputs": []
    }
  ]
}