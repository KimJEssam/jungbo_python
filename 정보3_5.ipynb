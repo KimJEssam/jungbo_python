{
  "nbformat": 4,
  "nbformat_minor": 0,
  "metadata": {
    "colab": {
      "name": "정보3-5.ipynb",
      "provenance": []
    },
    "kernelspec": {
      "name": "python3",
      "display_name": "Python 3"
    },
    "language_info": {
      "name": "python"
    }
  },
  "cells": [
    {
      "cell_type": "markdown",
      "source": [
        "# 고등학교 정보 3. 프로그래밍 (python) 3-5 제어 구조의 활용\n",
        "<img src='https://github.com/KimJEssam/firstTest/blob/main/00.PNG?raw=true' width=180>\n"
      ],
      "metadata": {
        "id": "gl9dDpscF4Kx"
      }
    },
    {
      "cell_type": "markdown",
      "source": [
        "###1. 제어구조\n",
        "<img src=\"https://github.com/KimJEssam/firstTest/blob/main/139%20%EC%A0%9C%EC%96%B4%EA%B5%AC%EC%A1%B0.png?raw=true\" width=200>\n"
      ],
      "metadata": {
        "id": "GMbw-in0i2_T"
      }
    },
    {
      "cell_type": "markdown",
      "source": [
        "###2. 반복구조의 활용\n",
        "\n",
        "<img src=\"https://github.com/KimJEssam/firstTest/blob/main/140%20for%EB%AC%B8%EA%B3%BC%20while%EB%AC%B8.png?raw=true\" width=700>"
      ],
      "metadata": {
        "id": "P8V1xgOLb_79"
      }
    },
    {
      "cell_type": "code",
      "source": [
        ""
      ],
      "metadata": {
        "id": "YE2pQsNMcKAt"
      },
      "execution_count": null,
      "outputs": []
    },
    {
      "cell_type": "code",
      "source": [
        ""
      ],
      "metadata": {
        "id": "B9EoFbChcJ0g"
      },
      "execution_count": null,
      "outputs": []
    },
    {
      "cell_type": "markdown",
      "source": [
        "**[스스로 해결하기 1]**for문과 range()\n",
        "\n",
        "<img src=\"https://github.com/KimJEssam/firstTest/blob/main/140%20range.png?raw=true\" width=700>"
      ],
      "metadata": {
        "id": "sWdkb-R5cNvH"
      }
    },
    {
      "cell_type": "code",
      "source": [
        ""
      ],
      "metadata": {
        "id": "6dsVOCM1c3zH"
      },
      "execution_count": null,
      "outputs": []
    },
    {
      "cell_type": "code",
      "source": [
        ""
      ],
      "metadata": {
        "id": "tz5L4FgLc4Rg"
      },
      "execution_count": null,
      "outputs": []
    },
    {
      "cell_type": "code",
      "source": [
        ""
      ],
      "metadata": {
        "id": "hMMMiGiSc4ei"
      },
      "execution_count": null,
      "outputs": []
    },
    {
      "cell_type": "markdown",
      "source": [
        "###3.선택 구조의 활용\n",
        "<img src=\"https://github.com/KimJEssam/firstTest/blob/main/141%20if.png?raw=true\" width=700>\n",
        "\n"
      ],
      "metadata": {
        "id": "2-2a0LB0c8a9"
      }
    },
    {
      "cell_type": "code",
      "source": [
        ""
      ],
      "metadata": {
        "id": "NuL-I2rndmZ7"
      },
      "execution_count": null,
      "outputs": []
    },
    {
      "cell_type": "code",
      "source": [
        ""
      ],
      "metadata": {
        "id": "_D1R53USdmO_"
      },
      "execution_count": null,
      "outputs": []
    },
    {
      "cell_type": "markdown",
      "source": [
        "**[스스로 해결하기 2]**조건과 같이 나이를 입력받아 메시지를 출력하는 프로그램을 작성해 보자.\n",
        "<img src=\"https://github.com/KimJEssam/firstTest/blob/main/141%20%EC%A1%B0%EA%B1%B4%EB%AC%B8.png?raw=true\" width=600>"
      ],
      "metadata": {
        "id": "ByXU-TaFdnIl"
      }
    },
    {
      "cell_type": "code",
      "source": [
        ""
      ],
      "metadata": {
        "id": "tQYnYWn2eUdZ"
      },
      "execution_count": null,
      "outputs": []
    },
    {
      "cell_type": "markdown",
      "source": [
        "**[스스로 해결하기 3]**반복 구조와 선택 구조를 활용하여 한 학기 내신 등급의 평균을 계산하는 프로그램을 작성해 보자.\n",
        "\n",
        "입출력설계\n",
        "\n",
        "<img src=\"https://github.com/KimJEssam/firstTest/blob/main/142%20input.png?raw=true\" width=220> <img src=\"https://github.com/KimJEssam/firstTest/blob/main/142%20output.png?raw=true\" width=350> <img src=\"https://github.com/KimJEssam/firstTest/blob/main/142%20print%20end.png?raw=true\" width=200> <img src=\"https://github.com/KimJEssam/firstTest/blob/main/142%20%EB%B3%80%EC%88%98%EC%84%A4%EA%B3%84.png?raw=true\" width=200> \n",
        "\n",
        "<img src=\"https://github.com/KimJEssam/firstTest/blob/main/142%20code.png?raw=true\" width=700> \n",
        " \n"
      ],
      "metadata": {
        "id": "0xOpvLuYekau"
      }
    },
    {
      "cell_type": "code",
      "source": [
        ""
      ],
      "metadata": {
        "id": "DM-cc2PXha3G"
      },
      "execution_count": null,
      "outputs": []
    },
    {
      "cell_type": "code",
      "source": [
        ""
      ],
      "metadata": {
        "id": "rH8ePij6jS0W"
      },
      "execution_count": null,
      "outputs": []
    },
    {
      "cell_type": "markdown",
      "source": [
        "###4.중첩 제어 구조의 필요성\n",
        ">단순 구조 vs. 중첩 구조\n",
        "\n",
        "<img src=\"https://github.com/KimJEssam/firstTest/blob/main/143%20%EB%8B%A8%EC%88%9C%EB%B0%98%EB%B3%B5%EA%B5%AC%EC%A1%B0%EC%99%80%20%EC%A4%91%EC%B2%A9%EB%B0%98%EB%B3%B5%EA%B5%AC%EC%A1%B0.png?raw=true\" width=600>\n",
        "<img src=\"https://github.com/KimJEssam/firstTest/blob/main/143%20%EB%8B%A8%EC%88%9C%EC%84%A0%ED%83%9D%EA%B5%AC%EC%A1%B0%EC%99%80%20%EC%A4%91%EC%B2%A9%EC%84%A0%ED%83%9D%EA%B5%AC%EC%A1%B0.png?raw=true\" width=600>\n"
      ],
      "metadata": {
        "id": "GRptyqE9hkML"
      }
    },
    {
      "cell_type": "markdown",
      "source": [
        "###5. 중첩제어구조의 활용\n",
        "> 문제 이해 및 분석\n",
        "\n",
        "<img src=\"https://github.com/KimJEssam/firstTest/blob/main/144_1.PNG?raw=true\" width=500>\n",
        "\n",
        "> 입력 예시\n",
        "\n",
        "<img src=\"https://github.com/KimJEssam/firstTest/blob/main/144_2.PNG?raw=true\" width=200>\n",
        "\n",
        "> 출력 예시\n",
        "\n",
        "<img src=\"https://github.com/KimJEssam/firstTest/blob/main/144_3.PNG?raw=true\" width=200>\n",
        "\n",
        "> 변수 설계\n",
        "\n",
        "<img src=\"https://github.com/KimJEssam/firstTest/blob/main/144_4.PNG?raw=true\" width=200>\n",
        "\n",
        "\n",
        "> 프로그래밍\n",
        "\n",
        "<img src=\"https://github.com/KimJEssam/firstTest/blob/main/144_5.PNG?raw=true\" width=700>\n",
        "\n",
        "\n"
      ],
      "metadata": {
        "id": "OazwHVWyoNm3"
      }
    },
    {
      "cell_type": "code",
      "source": [
        ""
      ],
      "metadata": {
        "id": "FQRbj8SvsCcd"
      },
      "execution_count": null,
      "outputs": []
    },
    {
      "cell_type": "markdown",
      "source": [
        "**[스스로 해결하기]** 중첩 제어 구조를 활용하여 '합리적인 소비를 위한 경우의 수 계산 프로그램'을 작성해 보자.\n",
        "\n",
        "10,000원으로 마트에서 물건을 사려고 한다. 필요한 물건은 1개당 500원, 1000원의 두 종류가 있으며 각각 재고가 10개씩 남아있다. 두 종류의 물건을 모두 1개 이상 샀을 때, 10,000원을 정확하게 사용하여 구입할 수 있는 경우의 수는 몇 가지일까? 각각의 경우마다 살 수 있는 물건의 개수를 구하여 출력한다.\n",
        "\n",
        "<img src=\"https://github.com/KimJEssam/firstTest/blob/main/146_1.PNG?raw=true\">\n",
        "\n",
        ">변수 설계\n",
        "\n",
        "<img src=\"https://github.com/KimJEssam/firstTest/blob/main/146_2.PNG?raw=true\" width=200>\n",
        "\n",
        ">프로그래밍\n",
        "\n",
        "<img src=\"https://github.com/KimJEssam/firstTest/blob/main/146_3.PNG?raw=true\" width=700>"
      ],
      "metadata": {
        "id": "RL17_jhosMiH"
      }
    },
    {
      "cell_type": "code",
      "source": [
        ""
      ],
      "metadata": {
        "id": "E5CizE2Ru1Jj"
      },
      "execution_count": null,
      "outputs": []
    },
    {
      "cell_type": "markdown",
      "source": [
        "**[응용하기]** 위와 같은 상황에서 800원, 900원, 1000원의 세 종류 뮬건이 있을 때, 10,000원으로 살 수 있는 물건의 개수를 구하는 프로그램으로 수정해 보자."
      ],
      "metadata": {
        "id": "lWva7GZ3u2ax"
      }
    },
    {
      "cell_type": "code",
      "source": [
        ""
      ],
      "metadata": {
        "id": "1cJv4LBDvLDh"
      },
      "execution_count": null,
      "outputs": []
    },
    {
      "cell_type": "markdown",
      "source": [
        "**[함께 해결하기]**중첩 제어 구조를 활용하여 '숫자 맞히기 게임 프로그램'을 작성해 보자.\n",
        "\n",
        "1.   컴퓨터가 정하는 숫자는 1부터 100까지의 숫자(정수) 중 하나이다. \n",
        "2.   숫자를 맞힐 수 있는 기회는 최대 6번이다.\n",
        "3.   추측하여 입력한 숫자가 다르면 컴퓨터가 정한 숫자가 큰지 작은지 힌트로 알려준다.\n",
        "4.   6번 안에 맞히면 '정답' 메시지가 출력되고 그렇지 않으면 '실패'메시지가 출력된다.\n",
        "\n",
        ">변수설계\n",
        "\n",
        "<img src=\"https://github.com/KimJEssam/firstTest/blob/main/147_1.PNG?raw=true\" width=200>\n",
        "\n",
        "> 프로그래밍\n",
        "\n",
        "<img src=\"https://github.com/KimJEssam/firstTest/blob/main/147_2.PNG?raw=true\" width=600>\n"
      ],
      "metadata": {
        "id": "5SqMokr1vYiL"
      }
    },
    {
      "cell_type": "code",
      "source": [
        ""
      ],
      "metadata": {
        "id": "2kpbhRw7xBcp"
      },
      "execution_count": null,
      "outputs": []
    },
    {
      "cell_type": "markdown",
      "source": [
        "**[응용하기]**\n",
        "\n",
        "<img src=\"https://github.com/KimJEssam/firstTest/blob/main/147_3.PNG?raw=true\">"
      ],
      "metadata": {
        "id": "wxJNpsd8xCCP"
      }
    },
    {
      "cell_type": "code",
      "source": [
        ""
      ],
      "metadata": {
        "id": "a5h7m8DBxOHM"
      },
      "execution_count": null,
      "outputs": []
    }
  ]
}